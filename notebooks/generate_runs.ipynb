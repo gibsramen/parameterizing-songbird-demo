{
 "cells": [
  {
   "cell_type": "code",
   "execution_count": 1,
   "metadata": {
    "execution": {
     "iopub.execute_input": "2021-03-29T01:43:01.982458Z",
     "iopub.status.busy": "2021-03-29T01:43:01.981063Z",
     "iopub.status.idle": "2021-03-29T01:43:02.718498Z",
     "shell.execute_reply": "2021-03-29T01:43:02.717533Z",
     "shell.execute_reply.started": "2021-03-29T01:43:01.982411Z"
    }
   },
   "outputs": [],
   "source": [
    "import os\n",
    "import pandas as pd\n",
    "\n",
    "import matplotlib.pyplot as plt\n",
    "import util"
   ]
  },
  {
   "cell_type": "markdown",
   "metadata": {},
   "source": [
    "## Vary epochs"
   ]
  },
  {
   "cell_type": "code",
   "execution_count": 2,
   "metadata": {
    "execution": {
     "iopub.execute_input": "2021-03-29T01:43:07.173696Z",
     "iopub.status.busy": "2021-03-29T01:43:07.173420Z",
     "iopub.status.idle": "2021-03-29T01:43:07.181682Z",
     "shell.execute_reply": "2021-03-29T01:43:07.180844Z",
     "shell.execute_reply.started": "2021-03-29T01:43:07.173668Z"
    }
   },
   "outputs": [
    {
     "name": "stdout",
     "output_type": "stream",
     "text": [
      "500 done!\n",
      "1000 done!\n",
      "5000 done!\n"
     ]
    }
   ],
   "source": [
    "for e in [500, 1000, 5000]:\n",
    "    f = f\"../results/vary_epochs/epochs_{e}_stats.tsv\"\n",
    "    f2 = f\"../results/vary_epochs/epochs_{e}_diff.tsv\"\n",
    "    if not os.path.exists(f):\n",
    "        diff, stats, _ = util.run_songbird(10, 1e-3, e)\n",
    "        util.get_stats_df(stats).to_csv(f, sep=\"\\t\", index=True)\n",
    "        diff.view(pd.DataFrame).to_csv(f2, sep=\"\\t\", index=True)\n",
    "    print(f\"{e} done!\")"
   ]
  },
  {
   "cell_type": "markdown",
   "metadata": {},
   "source": [
    "## Vary learning rate"
   ]
  },
  {
   "cell_type": "code",
   "execution_count": 3,
   "metadata": {
    "execution": {
     "iopub.execute_input": "2021-03-29T01:43:08.117330Z",
     "iopub.status.busy": "2021-03-29T01:43:08.117018Z",
     "iopub.status.idle": "2021-03-29T01:43:08.148983Z",
     "shell.execute_reply": "2021-03-29T01:43:08.128210Z",
     "shell.execute_reply.started": "2021-03-29T01:43:08.117298Z"
    }
   },
   "outputs": [
    {
     "name": "stdout",
     "output_type": "stream",
     "text": [
      "0.5 done!\n",
      "0.005 done!\n",
      "5e-05 done!\n"
     ]
    }
   ],
   "source": [
    "for lr in [0.5, 0.005, 0.00005]:\n",
    "    f = f\"../results/vary_learning_rate/lr_{lr}_stats.tsv\"\n",
    "    f2 = f\"../results/vary_learning_rate/lr_{lr}_diff.tsv\"\n",
    "    if not os.path.exists(f):\n",
    "        diff, stats, _ = util.run_songbird(10, lr, 5000)\n",
    "        util.get_stats_df(stats).to_csv(f, sep=\"\\t\", index=True)\n",
    "        diff.view(pd.DataFrame).to_csv(f2, sep=\"\\t\", index=True)\n",
    "    print(f\"{lr} done!\")"
   ]
  },
  {
   "cell_type": "markdown",
   "metadata": {},
   "source": [
    "## Vary differential prior"
   ]
  },
  {
   "cell_type": "code",
   "execution_count": 4,
   "metadata": {
    "execution": {
     "iopub.execute_input": "2021-03-29T01:43:09.518669Z",
     "iopub.status.busy": "2021-03-29T01:43:09.518208Z",
     "iopub.status.idle": "2021-03-29T01:43:09.528085Z",
     "shell.execute_reply": "2021-03-29T01:43:09.527022Z",
     "shell.execute_reply.started": "2021-03-29T01:43:09.518609Z"
    }
   },
   "outputs": [
    {
     "name": "stdout",
     "output_type": "stream",
     "text": [
      "1 done!\n",
      "5 done!\n",
      "10 done!\n"
     ]
    }
   ],
   "source": [
    "for dp in [1, 5, 10]:\n",
    "    # good model\n",
    "    f = f\"../results/vary_differential_prior/dp_{dp}_good_stats.tsv\"\n",
    "    f2 = f\"../results/vary_differential_prior/dp_{dp}_good_diff.tsv\"\n",
    "    if not os.path.exists(f):\n",
    "        diff, stats, _ = util.run_songbird(dp, 1e-3, 5000)\n",
    "        util.get_stats_df(stats).to_csv(f, sep=\"\\t\", index=True)\n",
    "        diff.view(pd.DataFrame).to_csv(f2, sep=\"\\t\", index=True)\n",
    "    \n",
    "    # bad model\n",
    "    f = f\"../results/vary_differential_prior/dp_{dp}_bad_stats.tsv\"\n",
    "    f2 = f\"../results/vary_differential_prior/dp_{dp}_bad_diff.tsv\"\n",
    "    if not os.path.exists(f):\n",
    "        diff, stats, _ = util.run_songbird(dp, 1e-3, 5000,\n",
    "                                           formula=\"HostSubject*brushing_event + final_volume_mL + final_tube_weight_g\")\n",
    "        util.get_stats_df(stats).to_csv(f, sep=\"\\t\", index=True)\n",
    "        diff.view(pd.DataFrame).to_csv(f2, sep=\"\\t\", index=True)\n",
    "    \n",
    "    print(f\"{dp} done!\")"
   ]
  },
  {
   "cell_type": "code",
   "execution_count": null,
   "metadata": {},
   "outputs": [],
   "source": []
  }
 ],
 "metadata": {
  "kernelspec": {
   "display_name": "Python 3",
   "language": "python",
   "name": "python3"
  },
  "language_info": {
   "codemirror_mode": {
    "name": "ipython",
    "version": 3
   },
   "file_extension": ".py",
   "mimetype": "text/x-python",
   "name": "python",
   "nbconvert_exporter": "python",
   "pygments_lexer": "ipython3",
   "version": "3.6.10"
  }
 },
 "nbformat": 4,
 "nbformat_minor": 4
}
