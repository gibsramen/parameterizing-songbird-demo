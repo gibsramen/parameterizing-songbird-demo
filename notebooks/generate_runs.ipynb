{
 "cells": [
  {
   "cell_type": "code",
   "execution_count": 7,
   "metadata": {
    "execution": {
     "iopub.execute_input": "2021-03-27T20:51:02.973062Z",
     "iopub.status.busy": "2021-03-27T20:51:02.972743Z",
     "iopub.status.idle": "2021-03-27T20:51:02.978133Z",
     "shell.execute_reply": "2021-03-27T20:51:02.976714Z",
     "shell.execute_reply.started": "2021-03-27T20:51:02.973033Z"
    }
   },
   "outputs": [],
   "source": [
    "import os\n",
    "import pandas as pd\n",
    "\n",
    "import matplotlib.pyplot as plt\n",
    "import util"
   ]
  },
  {
   "cell_type": "code",
   "execution_count": 15,
   "metadata": {
    "execution": {
     "iopub.execute_input": "2021-03-27T20:54:01.149338Z",
     "iopub.status.busy": "2021-03-27T20:54:01.149063Z",
     "iopub.status.idle": "2021-03-27T20:54:01.155188Z",
     "shell.execute_reply": "2021-03-27T20:54:01.153039Z",
     "shell.execute_reply.started": "2021-03-27T20:54:01.149312Z"
    }
   },
   "outputs": [],
   "source": [
    "f = \"../results/null_stats.qza\"\n",
    "if not os.path.exists(f):\n",
    "    null_results = util.run_songbird(10, 1e-3, 5000, formula=\"1\")\n",
    "    null_results[0].save(f)"
   ]
  },
  {
   "cell_type": "markdown",
   "metadata": {},
   "source": [
    "## Vary epochs"
   ]
  },
  {
   "cell_type": "code",
   "execution_count": 2,
   "metadata": {
    "execution": {
     "iopub.execute_input": "2021-03-27T19:43:00.701041Z",
     "iopub.status.busy": "2021-03-27T19:43:00.700673Z",
     "iopub.status.idle": "2021-03-27T19:44:02.240426Z",
     "shell.execute_reply": "2021-03-27T19:44:02.239871Z",
     "shell.execute_reply.started": "2021-03-27T19:43:00.700998Z"
    }
   },
   "outputs": [
    {
     "name": "stdout",
     "output_type": "stream",
     "text": [
      "500 done!\n",
      "1000 done!\n",
      "5000 done!\n"
     ]
    }
   ],
   "source": [
    "for e in [500, 1000, 5000]:\n",
    "    f = f\"../results/vary_epochs/epochs_{e}_stats.tsv\"\n",
    "    f2 = f\"../results/vary_epochs/epochs_{e}_diff.tsv\"\n",
    "    if not os.path.exists(f):\n",
    "        diff, stats, _ = util.run_songbird(10, 1e-3, e)\n",
    "        util.get_stats_df(stats).to_csv(f, sep=\"\\t\", index=True)\n",
    "        diff.view(pd.DataFrame).to_csv(f2, sep=\"\\t\", index=True)\n",
    "    print(f\"{e} done!\")"
   ]
  },
  {
   "cell_type": "markdown",
   "metadata": {},
   "source": [
    "## Vary learning rate"
   ]
  },
  {
   "cell_type": "code",
   "execution_count": 3,
   "metadata": {
    "execution": {
     "iopub.execute_input": "2021-03-27T19:44:02.243215Z",
     "iopub.status.busy": "2021-03-27T19:44:02.242808Z",
     "iopub.status.idle": "2021-03-27T19:46:32.863684Z",
     "shell.execute_reply": "2021-03-27T19:46:32.863156Z",
     "shell.execute_reply.started": "2021-03-27T19:44:02.243181Z"
    }
   },
   "outputs": [
    {
     "name": "stdout",
     "output_type": "stream",
     "text": [
      "0.5 done!\n",
      "0.005 done!\n",
      "5e-05 done!\n"
     ]
    }
   ],
   "source": [
    "for lr in [0.5, 0.005, 0.00005]:\n",
    "    f = f\"../results/vary_learning_rate/lr_{lr}_stats.tsv\"\n",
    "    f2 = f\"../results/vary_learning_rate/lr_{lr}_diff.tsv\"\n",
    "    if not os.path.exists(f):\n",
    "        diff, stats, _ = util.run_songbird(10, lr, 5000)\n",
    "        util.get_stats_df(stats).to_csv(f, sep=\"\\t\", index=True)\n",
    "        diff.view(pd.DataFrame).to_csv(f2, sep=\"\\t\", index=True)\n",
    "    print(f\"{lr} done!\")"
   ]
  },
  {
   "cell_type": "markdown",
   "metadata": {},
   "source": [
    "## Vary differential prior"
   ]
  },
  {
   "cell_type": "code",
   "execution_count": 20,
   "metadata": {
    "execution": {
     "iopub.execute_input": "2021-03-27T21:43:13.248411Z",
     "iopub.status.busy": "2021-03-27T21:43:13.248137Z",
     "iopub.status.idle": "2021-03-27T21:48:25.990219Z",
     "shell.execute_reply": "2021-03-27T21:48:25.989250Z",
     "shell.execute_reply.started": "2021-03-27T21:43:13.248386Z"
    }
   },
   "outputs": [
    {
     "name": "stdout",
     "output_type": "stream",
     "text": [
      "1 done!\n",
      "5 done!\n",
      "10 done!\n"
     ]
    }
   ],
   "source": [
    "for dp in [1, 5, 10]:\n",
    "    # good model\n",
    "    f = f\"../results/vary_differential_prior/dp_{dp}_good_stats.tsv\"\n",
    "    f2 = f\"../results/vary_differential_prior/dp_{dp}_good_diff.tsv\"\n",
    "    if not os.path.exists(f):\n",
    "        diff, stats, _ = util.run_songbird(dp, 1e-3, 5000)\n",
    "        util.get_stats_df(stats).to_csv(f, sep=\"\\t\", index=True)\n",
    "        diff.view(pd.DataFrame).to_csv(f2, sep=\"\\t\", index=True)\n",
    "    \n",
    "    # bad model\n",
    "    f = f\"../results/vary_differential_prior/dp_{dp}_bad_stats.tsv\"\n",
    "    f2 = f\"../results/vary_differential_prior/dp_{dp}_bad_diff.tsv\"\n",
    "    if not os.path.exists(f):\n",
    "        diff, stats, _ = util.run_songbird(dp, 1e-3, 5000,\n",
    "                                           formula=\"HostSubject*brushing_event + final_volume_mL + final_tube_weight_g\")\n",
    "        util.get_stats_df(stats).to_csv(f, sep=\"\\t\", index=True)\n",
    "        diff.view(pd.DataFrame).to_csv(f2, sep=\"\\t\", index=True)\n",
    "    \n",
    "    print(f\"{dp} done!\")"
   ]
  },
  {
   "cell_type": "code",
   "execution_count": 19,
   "metadata": {
    "execution": {
     "iopub.execute_input": "2021-03-27T21:43:10.322271Z",
     "iopub.status.busy": "2021-03-27T21:43:10.321827Z",
     "iopub.status.idle": "2021-03-27T21:43:10.408960Z",
     "shell.execute_reply": "2021-03-27T21:43:10.407739Z",
     "shell.execute_reply.started": "2021-03-27T21:43:10.322242Z"
    }
   },
   "outputs": [
    {
     "data": {
      "text/plain": [
       "<module 'util' from '/Users/gibs/projects/songbird-demo/notebooks/util.py'>"
      ]
     },
     "execution_count": 19,
     "metadata": {},
     "output_type": "execute_result"
    }
   ],
   "source": [
    "import importlib\n",
    "importlib.reload(util)"
   ]
  },
  {
   "cell_type": "code",
   "execution_count": null,
   "metadata": {},
   "outputs": [],
   "source": []
  }
 ],
 "metadata": {
  "kernelspec": {
   "display_name": "Python 3",
   "language": "python",
   "name": "python3"
  },
  "language_info": {
   "codemirror_mode": {
    "name": "ipython",
    "version": 3
   },
   "file_extension": ".py",
   "mimetype": "text/x-python",
   "name": "python",
   "nbconvert_exporter": "python",
   "pygments_lexer": "ipython3",
   "version": "3.6.10"
  }
 },
 "nbformat": 4,
 "nbformat_minor": 4
}
